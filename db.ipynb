{
 "cells": [
  {
   "cell_type": "markdown",
   "id": "6c72fe30",
   "metadata": {},
   "source": [
    "# Создание базы данных \"Договора\""
   ]
  },
  {
   "cell_type": "markdown",
   "id": "c723ce3d",
   "metadata": {},
   "source": [
    "![contracts.db](images/contracts_db.png)\n",
    "[**Структура БД**](contracts_db_structure.xml) https://nosqldbm.ru/"
   ]
  },
  {
   "cell_type": "code",
   "execution_count": 3,
   "id": "3f77c25a",
   "metadata": {},
   "outputs": [],
   "source": [
    "# импорт необходимых библеотек\n",
    "import sqlite3"
   ]
  },
  {
   "cell_type": "code",
   "execution_count": 4,
   "id": "eea290e1",
   "metadata": {},
   "outputs": [
    {
     "name": "stdout",
     "output_type": "stream",
     "text": [
      "База данных создана и успешно подключена к SQLite\n"
     ]
    }
   ],
   "source": [
    "# подключение к базе данных (в случае отсутствия база данных создается)\n",
    "connection = sqlite3.connect('contracts.db')\n",
    "# создание объекта подключения\n",
    "cursor = connection.cursor()\n",
    "print(\"База данных создана и успешно подключена к SQLite\")"
   ]
  },
  {
   "cell_type": "code",
   "execution_count": 5,
   "id": "a2b1df4f",
   "metadata": {},
   "outputs": [
    {
     "name": "stdout",
     "output_type": "stream",
     "text": [
      "Версия базы данных SQLite:  [('3.38.2',)]\n"
     ]
    }
   ],
   "source": [
    "# вывод версии базы данных\n",
    "sqlite_select_query = \"select sqlite_version();\"\n",
    "cursor.execute(sqlite_select_query)\n",
    "record = cursor.fetchall()\n",
    "print(\"Версия базы данных SQLite: \", record)"
   ]
  },
  {
   "cell_type": "markdown",
   "id": "128c69af",
   "metadata": {},
   "source": [
    "## Таблица \"Вид договорова\"\n",
    "\n",
    "* **kind_id** - id наименования вида договора\n",
    "* **kind_name** - наименование вида договора"
   ]
  },
  {
   "cell_type": "code",
   "execution_count": 7,
   "id": "81faef82",
   "metadata": {},
   "outputs": [],
   "source": [
    "# создание таблицы contract_kinds\n",
    "cursor.execute(\"\"\"CREATE TABLE IF NOT EXISTS contract_kinds(\n",
    "   kind_id INTEGER PRIMARY KEY,\n",
    "   kind_name TEXT UNIQUE)\"\"\")\n",
    "connection.commit()"
   ]
  },
  {
   "cell_type": "code",
   "execution_count": 8,
   "id": "a9df3f86",
   "metadata": {},
   "outputs": [],
   "source": [
    "# удаление таблицы\n",
    "#cursor.execute(\"DROP TABLE contract_kinds\")\n",
    "#connection.commit()"
   ]
  },
  {
   "cell_type": "markdown",
   "id": "22c52b3b",
   "metadata": {},
   "source": [
    "## Таблица \"Договора\"\n",
    "\n",
    "* **kind_id** - id наименования вида договора\n",
    "* **greate_date** - дата сохранения договора в базу данных\n",
    "* **contract_id** - id договора\n",
    "* **contract_name** - имя файла договора\n",
    "* **contract** - текст договора\n",
    "* **kind_pred_id** - предсказанный id наименования вида договора"
   ]
  },
  {
   "cell_type": "code",
   "execution_count": 10,
   "id": "f3c72c7b",
   "metadata": {},
   "outputs": [],
   "source": [
    "# создание таблицы contracts # contract NOT NULL UNIQUE\n",
    "cursor.execute(\"\"\"CREATE TABLE IF NOT EXISTS contracts(\n",
    "   kind_id INTEGER,\n",
    "   greate_date TEXT, \n",
    "   contract_id INTEGER PRIMARY KEY,\n",
    "   contract_name TEXT,\n",
    "   contract NOT NULL, \n",
    "   kind_pred_id INTEGER)\"\"\")\n",
    "connection.commit()"
   ]
  },
  {
   "cell_type": "code",
   "execution_count": 11,
   "id": "d2931bb7",
   "metadata": {},
   "outputs": [],
   "source": [
    "# удаление таблицы\n",
    "#cursor.execute(\"DROP TABLE contracts\")\n",
    "#connection.commit()"
   ]
  },
  {
   "cell_type": "code",
   "execution_count": 13,
   "id": "18f592fb",
   "metadata": {},
   "outputs": [],
   "source": [
    "# закрытие соединения с базой данных\n",
    "connection.close()"
   ]
  },
  {
   "cell_type": "code",
   "execution_count": null,
   "id": "487f67e6",
   "metadata": {},
   "outputs": [],
   "source": []
  }
 ],
 "metadata": {
  "kernelspec": {
   "display_name": "Python 3 (ipykernel)",
   "language": "python",
   "name": "python3"
  },
  "language_info": {
   "codemirror_mode": {
    "name": "ipython",
    "version": 3
   },
   "file_extension": ".py",
   "mimetype": "text/x-python",
   "name": "python",
   "nbconvert_exporter": "python",
   "pygments_lexer": "ipython3",
   "version": "3.9.12"
  }
 },
 "nbformat": 4,
 "nbformat_minor": 5
}
