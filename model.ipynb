{
 "cells": [
  {
   "cell_type": "code",
   "execution_count": 25,
   "id": "9a143876",
   "metadata": {},
   "outputs": [],
   "source": [
    "# импорт необходимых библиотек\n",
    "import pandas as pd\n",
    "import re\n",
    "import time\n",
    "import numpy as np\n",
    "import pickle\n",
    "import os\n",
    "import json\n",
    "import seaborn as sns\n",
    "import matplotlib.pyplot as plt\n",
    "from sklearn.model_selection import train_test_split\n",
    "from sklearn.metrics import recall_score, confusion_matrix\n",
    "# TfidfVectorizer преобразует тексты в числовые вектора, отражающие важность использования каждого слова из некоторого набора\n",
    "from sklearn.feature_extraction.text import TfidfVectorizer\n",
    "from sklearn import metrics # набор метрик для оценки качества модели\n",
    "from sklearn.metrics import precision_recall_fscore_support, accuracy_score\n",
    "from sklearn.model_selection import GridSearchCV  # модуль поиска по сетке параметров\n",
    "from sklearn.linear_model import LogisticRegression # Логистическая регрессия\n",
    "\n",
    "import warnings\n",
    "warnings.filterwarnings('ignore')\n",
    "\n",
    "import nltk\n",
    "from nltk.corpus import stopwords as nltk_stopwords\n",
    "\n",
    "from pymystem3 import Mystem"
   ]
  },
  {
   "cell_type": "code",
   "execution_count": 26,
   "id": "522121eb",
   "metadata": {},
   "outputs": [
    {
     "name": "stderr",
     "output_type": "stream",
     "text": [
      "[nltk_data] Downloading package stopwords to\n",
      "[nltk_data]     C:\\Users\\rus_k\\AppData\\Roaming\\nltk_data...\n",
      "[nltk_data]   Package stopwords is already up-to-date!\n"
     ]
    }
   ],
   "source": [
    "nltk.download('stopwords')\n",
    "stopwords = list(nltk_stopwords.words('russian'))"
   ]
  },
  {
   "cell_type": "markdown",
   "id": "31d3f67a",
   "metadata": {},
   "source": [
    "# Подготовка данных"
   ]
  },
  {
   "cell_type": "code",
   "execution_count": 27,
   "id": "6864d9a0",
   "metadata": {},
   "outputs": [
    {
     "data": {
      "text/plain": [
       "{'1': 'Договор аренды',\n",
       " '2': 'Договор купли-продажи',\n",
       " '3': 'Договор оказания услуг',\n",
       " '4': 'Договор подряда',\n",
       " '5': 'Договор поставки'}"
      ]
     },
     "execution_count": 27,
     "metadata": {},
     "output_type": "execute_result"
    }
   ],
   "source": [
    "# словарь видов договоров\n",
    "with open('data/kind_names.json', 'r', encoding='utf8') as f:\n",
    "    kind_names = json.load(f)\n",
    "kind_names"
   ]
  },
  {
   "cell_type": "code",
   "execution_count": 28,
   "id": "04872100",
   "metadata": {},
   "outputs": [
    {
     "data": {
      "text/html": [
       "<div>\n",
       "<style scoped>\n",
       "    .dataframe tbody tr th:only-of-type {\n",
       "        vertical-align: middle;\n",
       "    }\n",
       "\n",
       "    .dataframe tbody tr th {\n",
       "        vertical-align: top;\n",
       "    }\n",
       "\n",
       "    .dataframe thead th {\n",
       "        text-align: right;\n",
       "    }\n",
       "</style>\n",
       "<table border=\"1\" class=\"dataframe\">\n",
       "  <thead>\n",
       "    <tr style=\"text-align: right;\">\n",
       "      <th></th>\n",
       "      <th>contract_id</th>\n",
       "      <th>kind_id</th>\n",
       "      <th>kind_name</th>\n",
       "      <th>greate_date</th>\n",
       "      <th>contract_name</th>\n",
       "      <th>contract</th>\n",
       "      <th>text</th>\n",
       "      <th>lemm_text_list</th>\n",
       "      <th>lemm_text</th>\n",
       "    </tr>\n",
       "  </thead>\n",
       "  <tbody>\n",
       "    <tr>\n",
       "      <th>0</th>\n",
       "      <td>1</td>\n",
       "      <td>5</td>\n",
       "      <td>Договор поставки</td>\n",
       "      <td>2022-12-26</td>\n",
       "      <td>5908cb5da047d6c9e6dfea6337fb3189.doc</td>\n",
       "      <td>\\r\\t\\tДОГОВОР \\r\\rг. Москва\u0007«__» ________ 2012...</td>\n",
       "      <td>договор   г  москва                    г   ...</td>\n",
       "      <td>['г', 'москва', 'г', 'общество', 'с', 'огранич...</td>\n",
       "      <td>г москва г общество с ограниченный ответственн...</td>\n",
       "    </tr>\n",
       "    <tr>\n",
       "      <th>1</th>\n",
       "      <td>2</td>\n",
       "      <td>5</td>\n",
       "      <td>Договор поставки</td>\n",
       "      <td>2022-12-26</td>\n",
       "      <td>14711e4fc8e56f0c75856c8837ec04cb.doc</td>\n",
       "      <td>\\r\\r\\rДоговор №______________\\r\\r\\r Дата, мест...</td>\n",
       "      <td>договор                    дата  место закл...</td>\n",
       "      <td>['дата', 'место', 'заключение', 'населенный', ...</td>\n",
       "      <td>дата место заключение населенный пункт именова...</td>\n",
       "    </tr>\n",
       "    <tr>\n",
       "      <th>2</th>\n",
       "      <td>3</td>\n",
       "      <td>5</td>\n",
       "      <td>Договор поставки</td>\n",
       "      <td>2022-12-26</td>\n",
       "      <td>7eb67b5aecf3f3190aab0a5f8ea32172.docx</td>\n",
       "      <td>\\r\\r\\t\\t\\r\\rДОГОВОР ЗАКУПКИ № __________/\\r\\rг...</td>\n",
       "      <td>договор закупки                г        ...</td>\n",
       "      <td>['закупка', 'г', 'г', 'общество', 'с', 'ограни...</td>\n",
       "      <td>закупка г г общество с ограниченный ответствен...</td>\n",
       "    </tr>\n",
       "    <tr>\n",
       "      <th>3</th>\n",
       "      <td>4</td>\n",
       "      <td>5</td>\n",
       "      <td>Договор поставки</td>\n",
       "      <td>2022-12-26</td>\n",
       "      <td>b40a9d048b199d5f4db62a6a2335f2a0.pdf</td>\n",
       "      <td>\\rДОГОВОР ПОСТАВКИ № 1 \\rг. Москва         «11...</td>\n",
       "      <td>договор поставки      г  москва              ...</td>\n",
       "      <td>['поставка', 'г', 'москва', 'декабрь', 'г', 'о...</td>\n",
       "      <td>поставка г москва декабрь г общество с огранич...</td>\n",
       "    </tr>\n",
       "    <tr>\n",
       "      <th>4</th>\n",
       "      <td>5</td>\n",
       "      <td>5</td>\n",
       "      <td>Договор поставки</td>\n",
       "      <td>2022-12-26</td>\n",
       "      <td>84fec112d02288861e7af59f468131fb.docx</td>\n",
       "      <td>\\rДоговор  № {НомерДокумента}\\r\u0007{ДатаДокумента...</td>\n",
       "      <td>договор     номердокумента    датадокумента  ...</td>\n",
       "      <td>['номердокумент', 'датадокумент', 'названиекон...</td>\n",
       "      <td>номердокумент датадокумент названиеконтры имен...</td>\n",
       "    </tr>\n",
       "  </tbody>\n",
       "</table>\n",
       "</div>"
      ],
      "text/plain": [
       "   contract_id  kind_id         kind_name greate_date  \\\n",
       "0            1        5  Договор поставки  2022-12-26   \n",
       "1            2        5  Договор поставки  2022-12-26   \n",
       "2            3        5  Договор поставки  2022-12-26   \n",
       "3            4        5  Договор поставки  2022-12-26   \n",
       "4            5        5  Договор поставки  2022-12-26   \n",
       "\n",
       "                           contract_name  \\\n",
       "0   5908cb5da047d6c9e6dfea6337fb3189.doc   \n",
       "1   14711e4fc8e56f0c75856c8837ec04cb.doc   \n",
       "2  7eb67b5aecf3f3190aab0a5f8ea32172.docx   \n",
       "3   b40a9d048b199d5f4db62a6a2335f2a0.pdf   \n",
       "4  84fec112d02288861e7af59f468131fb.docx   \n",
       "\n",
       "                                            contract  \\\n",
       "0  \\r\\t\\tДОГОВОР \\r\\rг. Москва\u0007«__» ________ 2012...   \n",
       "1  \\r\\r\\rДоговор №______________\\r\\r\\r Дата, мест...   \n",
       "2  \\r\\r\\t\\t\\r\\rДОГОВОР ЗАКУПКИ № __________/\\r\\rг...   \n",
       "3  \\rДОГОВОР ПОСТАВКИ № 1 \\rг. Москва         «11...   \n",
       "4  \\rДоговор  № {НомерДокумента}\\r\u0007{ДатаДокумента...   \n",
       "\n",
       "                                                text  \\\n",
       "0     договор   г  москва                    г   ...   \n",
       "1     договор                    дата  место закл...   \n",
       "2        договор закупки                г        ...   \n",
       "3   договор поставки      г  москва              ...   \n",
       "4   договор     номердокумента    датадокумента  ...   \n",
       "\n",
       "                                      lemm_text_list  \\\n",
       "0  ['г', 'москва', 'г', 'общество', 'с', 'огранич...   \n",
       "1  ['дата', 'место', 'заключение', 'населенный', ...   \n",
       "2  ['закупка', 'г', 'г', 'общество', 'с', 'ограни...   \n",
       "3  ['поставка', 'г', 'москва', 'декабрь', 'г', 'о...   \n",
       "4  ['номердокумент', 'датадокумент', 'названиекон...   \n",
       "\n",
       "                                           lemm_text  \n",
       "0  г москва г общество с ограниченный ответственн...  \n",
       "1  дата место заключение населенный пункт именова...  \n",
       "2  закупка г г общество с ограниченный ответствен...  \n",
       "3  поставка г москва декабрь г общество с огранич...  \n",
       "4  номердокумент датадокумент названиеконтры имен...  "
      ]
     },
     "execution_count": 28,
     "metadata": {},
     "output_type": "execute_result"
    }
   ],
   "source": [
    "# загрузка данных в датафрейм\n",
    "df = pd.read_csv('data/contracts_df.csv')\n",
    "df.head()"
   ]
  },
  {
   "cell_type": "code",
   "execution_count": 29,
   "id": "39ad1a80",
   "metadata": {},
   "outputs": [],
   "source": [
    "# ограничение количества слов в списке лемматизированных слов договора\n",
    "MAX_WORD = 1000 # подбирается наилучший по метрике на кроссвалидации "
   ]
  },
  {
   "cell_type": "code",
   "execution_count": 30,
   "id": "28d71c57",
   "metadata": {},
   "outputs": [
    {
     "name": "stdout",
     "output_type": "stream",
     "text": [
      "CPU times: total: 219 ms\n",
      "Wall time: 216 ms\n"
     ]
    }
   ],
   "source": [
    "%%time\n",
    "df['lemm_text_list'] = df['lemm_text_list'].apply(lambda x: eval(x)[:MAX_WORD])\n",
    "# формируем столбец 'lemm_text' - лемматизированный тест для последующей обработки в TfidfVectorizer\n",
    "df['lemm_text'] = df['lemm_text_list'].apply(lambda x: ' '.join(x))"
   ]
  },
  {
   "cell_type": "code",
   "execution_count": 31,
   "id": "229a349a",
   "metadata": {},
   "outputs": [],
   "source": [
    "# лемматизированный текст договора\n",
    "X = df['lemm_text']\n",
    "# целевой признак - номер класса\n",
    "y = df['kind_id']"
   ]
  },
  {
   "cell_type": "markdown",
   "id": "fcc34b12",
   "metadata": {},
   "source": [
    "# Модель"
   ]
  },
  {
   "cell_type": "code",
   "execution_count": 32,
   "id": "179a8a8b",
   "metadata": {},
   "outputs": [],
   "source": [
    "# инициализация TfidfVectorizer\n",
    "vectorizer = TfidfVectorizer(stop_words=stopwords, ngram_range=(1, 3), max_features=1000)"
   ]
  },
  {
   "cell_type": "code",
   "execution_count": 33,
   "id": "b9c9c8e4",
   "metadata": {
    "scrolled": true
   },
   "outputs": [],
   "source": [
    "# обучение TfidfVectorizer\n",
    "X_grid = vectorizer.fit_transform(X)  "
   ]
  },
  {
   "cell_type": "code",
   "execution_count": 34,
   "id": "14126888",
   "metadata": {},
   "outputs": [],
   "source": [
    "# сохранение обученного TfidfVectorizer в файл\n",
    "dest = os.path.join('data', 'pkl_object')\n",
    "if not os.path.exists(dest):\n",
    "    os.makedirs(dest)\n",
    "pickle.dump(vectorizer,\n",
    "            open(os.path.join(dest, 'vectorizer.pkl'), 'wb'),\n",
    "            protocol=4)"
   ]
  },
  {
   "cell_type": "code",
   "execution_count": 35,
   "id": "5b8d90ba",
   "metadata": {},
   "outputs": [
    {
     "name": "stdout",
     "output_type": "stream",
     "text": [
      "CPU times: total: 141 ms\n",
      "Wall time: 4.69 s\n"
     ]
    },
    {
     "data": {
      "text/html": [
       "<div>\n",
       "<style scoped>\n",
       "    .dataframe tbody tr th:only-of-type {\n",
       "        vertical-align: middle;\n",
       "    }\n",
       "\n",
       "    .dataframe tbody tr th {\n",
       "        vertical-align: top;\n",
       "    }\n",
       "\n",
       "    .dataframe thead th {\n",
       "        text-align: right;\n",
       "    }\n",
       "</style>\n",
       "<table border=\"1\" class=\"dataframe\">\n",
       "  <thead>\n",
       "    <tr style=\"text-align: right;\">\n",
       "      <th></th>\n",
       "      <th>Метрика</th>\n",
       "      <th>Показатель метрики</th>\n",
       "    </tr>\n",
       "  </thead>\n",
       "  <tbody>\n",
       "    <tr>\n",
       "      <th>1</th>\n",
       "      <td>accuracy</td>\n",
       "      <td>0.975000</td>\n",
       "    </tr>\n",
       "    <tr>\n",
       "      <th>2</th>\n",
       "      <td>precision_macro</td>\n",
       "      <td>0.979000</td>\n",
       "    </tr>\n",
       "    <tr>\n",
       "      <th>3</th>\n",
       "      <td>recall_macro</td>\n",
       "      <td>0.972000</td>\n",
       "    </tr>\n",
       "    <tr>\n",
       "      <th>4</th>\n",
       "      <td>f1_macro</td>\n",
       "      <td>0.970667</td>\n",
       "    </tr>\n",
       "  </tbody>\n",
       "</table>\n",
       "</div>"
      ],
      "text/plain": [
       "           Метрика  Показатель метрики\n",
       "1         accuracy            0.975000\n",
       "2  precision_macro            0.979000\n",
       "3     recall_macro            0.972000\n",
       "4         f1_macro            0.970667"
      ]
     },
     "execution_count": 35,
     "metadata": {},
     "output_type": "execute_result"
    }
   ],
   "source": [
    "%%time\n",
    "# кросс-валидация на 5 фолдах и вывод метрик\n",
    "metrics_for_model = ['accuracy', 'precision_macro', 'recall_macro', 'f1_macro']\n",
    "best_metrics = []\n",
    "for scoring in metrics_for_model:\n",
    "    logit = LogisticRegression(random_state=12345)\n",
    "    logit_grid_searcher = GridSearchCV(estimator=logit, param_grid={'C':[5],\n",
    "                                                                    'solver': ['liblinear'],\n",
    "                                                                    'max_iter':[100]},\n",
    "                                       scoring=scoring, n_jobs=-1, cv=5)\n",
    "    logit_grid_searcher.fit(X_grid, y)\n",
    "    best_metrics.append(logit_grid_searcher.best_score_)\n",
    "    \n",
    "columns = ['Метрика', 'Показатель метрики'] \n",
    "metrics_itog = pd.DataFrame(index=[1, 2, 3, 4], data=metrics_for_model)\n",
    "metrics_itog[1] = best_metrics \n",
    "metrics_itog.columns = columns\n",
    "metrics_itog"
   ]
  },
  {
   "cell_type": "code",
   "execution_count": 36,
   "id": "39337073",
   "metadata": {},
   "outputs": [],
   "source": [
    "# сохранение обученной модели в файл\n",
    "pickle.dump(logit_grid_searcher,\n",
    "            open(os.path.join(dest, 'logit_grid_searcher.pkl'), 'wb'),\n",
    "            protocol=4)"
   ]
  },
  {
   "cell_type": "markdown",
   "id": "8de7d817",
   "metadata": {},
   "source": [
    "# Тестирование модели"
   ]
  },
  {
   "cell_type": "code",
   "execution_count": 37,
   "id": "910ee84f",
   "metadata": {},
   "outputs": [],
   "source": [
    "# формирование обучающей и тестовой выборки в соотношении 50% и 50% от всех доступных данных\n",
    "X_train, X_test, y_train, y_test = train_test_split(X , y, test_size=0.5, stratify=y, random_state=12345)\n",
    "# если задать разбиение 70% на 30% то метрики будут 100 процентные !!!"
   ]
  },
  {
   "cell_type": "code",
   "execution_count": 38,
   "id": "1e0e8b38",
   "metadata": {},
   "outputs": [],
   "source": [
    "# обучение на трейне и применение на тесте TfidfVectorizer \n",
    "vectorizer = TfidfVectorizer(ngram_range=(1, 3), max_features=1000) # инициализация TfidfVectorizer\n",
    "X_train = vectorizer.fit_transform(X_train) # обучение TfidfVectorizer на трейне\n",
    "X_test = vectorizer.transform(X_test) # применение обученного TfidfVectorizer на тесте"
   ]
  },
  {
   "cell_type": "code",
   "execution_count": 39,
   "id": "86436711",
   "metadata": {},
   "outputs": [],
   "source": [
    "# инициализация логистической регрессии (гиперпараметры по умолчанию)\n",
    "lr = LogisticRegression(random_state=12345, C = 5, max_iter = 100, solver = 'liblinear')\n",
    "# обучение логистической регрессии на трейне\n",
    "lr.fit(X_train, y_train)\n",
    "# получение предсказаний на тесте\n",
    "y_pred = lr.predict(X_test) "
   ]
  },
  {
   "cell_type": "code",
   "execution_count": 40,
   "id": "ab62f4cb",
   "metadata": {},
   "outputs": [
    {
     "data": {
      "text/plain": [
       "0.95"
      ]
     },
     "execution_count": 40,
     "metadata": {},
     "output_type": "execute_result"
    }
   ],
   "source": [
    "# вывод метрик и confusion_matrix\n",
    "accuracy_score(y_test, y_pred)"
   ]
  },
  {
   "cell_type": "code",
   "execution_count": 41,
   "id": "1b6277e4",
   "metadata": {},
   "outputs": [
    {
     "data": {
      "text/plain": [
       "(0.9539335664335665, 0.949318181818182, 0.9507918660287082, None)"
      ]
     },
     "execution_count": 41,
     "metadata": {},
     "output_type": "execute_result"
    }
   ],
   "source": [
    "precision_recall_fscore_support(y_test, y_pred, average='macro')"
   ]
  },
  {
   "cell_type": "code",
   "execution_count": 42,
   "id": "1731d04a",
   "metadata": {},
   "outputs": [
    {
     "data": {
      "image/png": "[encoded data removed]",
      "text/plain": [
       "<Figure size 576x432 with 2 Axes>"
      ]
     },
     "metadata": {
      "needs_background": "light"
     },
     "output_type": "display_data"
    }
   ],
   "source": [
    "cm = confusion_matrix(y_test, y_pred)\n",
    "class_names = kind_names.values()\n",
    "fig = plt.figure(figsize=(8, 6))\n",
    "ax= plt.subplot()\n",
    "sns.heatmap(cm, annot=True, ax=ax, fmt='d', cmap='Blues')\n",
    "ax.set_xlabel('Predicted', fontsize=20)\n",
    "ax.xaxis.set_label_position('bottom')\n",
    "plt.xticks(rotation=90)\n",
    "ax.xaxis.set_ticklabels(class_names, fontsize=10)\n",
    "ax.xaxis.tick_bottom()\n",
    "ax.set_ylabel('True', fontsize=20)\n",
    "ax.yaxis.set_ticklabels(class_names, fontsize=10)\n",
    "plt.yticks(rotation=0)\n",
    "plt.title('Refined Confusion Matrix', fontsize=20, pad=50)\n",
    "plt.show()"
   ]
  },
  {
   "cell_type": "markdown",
   "id": "8c09b062",
   "metadata": {},
   "source": [
    "# Предсказание вида для нового договора"
   ]
  },
  {
   "cell_type": "code",
   "execution_count": 43,
   "id": "53b3889d",
   "metadata": {},
   "outputs": [
    {
     "data": {
      "text/plain": [
       "'\\rДОГОВОР № _____\\r\\rг. Санкт-Петербург\\x07« ___ » _____________ 201___ г.\\x07\\x07\\r__________________________, именуемое в дальнейшем «Поставщик», в лице ___________________, действующего на основании __________,'"
      ]
     },
     "execution_count": 43,
     "metadata": {},
     "output_type": "execute_result"
    }
   ],
   "source": [
    "# случайный (новый) договор\n",
    "contract = df['contract'].sample(1).values[0]\n",
    "contract[:200]"
   ]
  },
  {
   "cell_type": "code",
   "execution_count": 49,
   "id": "d2813a35",
   "metadata": {},
   "outputs": [],
   "source": [
    "m = Mystem()\n",
    "# функция трансформации текста договора для предсказания\n",
    "def ContractTransform(text):\n",
    "    \n",
    "    text = text.lower()\n",
    "    text = re.sub('[^а-яА-ЯёЁ]', ' ', text)\n",
    "    lemm_text_list = [i for i in m.lemmatize(text) if len(i.strip()) > 0] \n",
    "    lemm_text_list = [word for word in lemm_text_list if 'договор' not in word and 'сторон' not in word]\n",
    "    lemm_text_list = lemm_text_list[:MAX_WORD]\n",
    "    \n",
    "    return pd.Series(' '.join(lemm_text_list))   "
   ]
  },
  {
   "cell_type": "code",
   "execution_count": 50,
   "id": "dc561225",
   "metadata": {},
   "outputs": [
    {
     "data": {
      "text/plain": [
       "0    г санкт петербург г именовать в дальнейший пос...\n",
       "dtype: object"
      ]
     },
     "execution_count": 50,
     "metadata": {},
     "output_type": "execute_result"
    }
   ],
   "source": [
    "# трансформация текста случайного (нового) договора\n",
    "X_test = ContractTransform(contract)\n",
    "X_test"
   ]
  },
  {
   "cell_type": "code",
   "execution_count": 46,
   "id": "796de631",
   "metadata": {},
   "outputs": [],
   "source": [
    "# применение векторайзера\n",
    "X_test = vectorizer.transform(X_test)"
   ]
  },
  {
   "cell_type": "code",
   "execution_count": 47,
   "id": "8c9f67d8",
   "metadata": {},
   "outputs": [
    {
     "data": {
      "text/plain": [
       "2"
      ]
     },
     "execution_count": 47,
     "metadata": {},
     "output_type": "execute_result"
    }
   ],
   "source": [
    "# получение предсказаного номера класса\n",
    "class_number = logit_grid_searcher.predict(X_test)[0]\n",
    "class_number"
   ]
  },
  {
   "cell_type": "code",
   "execution_count": 48,
   "id": "1462a7fd",
   "metadata": {},
   "outputs": [
    {
     "data": {
      "text/plain": [
       "'Договор купли-продажи'"
      ]
     },
     "execution_count": 48,
     "metadata": {},
     "output_type": "execute_result"
    }
   ],
   "source": [
    "# получение предсказаного названия вида договора (в текстовом виде)\n",
    "kind_names[str(class_number)]"
   ]
  },
  {
   "cell_type": "code",
   "execution_count": null,
   "id": "1becbc13",
   "metadata": {},
   "outputs": [],
   "source": []
  }
 ],
 "metadata": {
  "kernelspec": {
   "display_name": "Python 3 (ipykernel)",
   "language": "python",
   "name": "python3"
  },
  "language_info": {
   "codemirror_mode": {
    "name": "ipython",
    "version": 3
   },
   "file_extension": ".py",
   "mimetype": "text/x-python",
   "name": "python",
   "nbconvert_exporter": "python",
   "pygments_lexer": "ipython3",
   "version": "3.9.12"
  }
 },
 "nbformat": 4,
 "nbformat_minor": 5
}
