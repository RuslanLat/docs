{
 "cells": [
  {
   "cell_type": "markdown",
   "id": "47dbae78",
   "metadata": {},
   "source": [
    "# Обработка договоров хакатона"
   ]
  },
  {
   "cell_type": "code",
   "execution_count": 3,
   "id": "1185b8d2",
   "metadata": {},
   "outputs": [],
   "source": [
    "# импорт необходимых библеотек\n",
    "import json\n",
    "import sqlite3\n",
    "import numpy as np\n",
    "import pandas as pd\n",
    "import aspose.words as aw"
   ]
  },
  {
   "cell_type": "code",
   "execution_count": 144,
   "id": "2d356446",
   "metadata": {},
   "outputs": [],
   "source": [
    "# считывание файла с видами договоров\n",
    "with open('data/classes.json', 'r', encoding='utf8') as f:\n",
    "    classes = json.load(f)"
   ]
  },
  {
   "cell_type": "code",
   "execution_count": 145,
   "id": "45e6a24f",
   "metadata": {},
   "outputs": [
    {
     "data": {
      "text/plain": [
       "{'5908cb5da047d6c9e6dfea6337fb3189.doc': 'Договоры для акселератора/Договоры поставки',\n",
       " '14711e4fc8e56f0c75856c8837ec04cb.doc': 'Договоры для акселератора/Договоры поставки',\n",
       " '7eb67b5aecf3f3190aab0a5f8ea32172.docx': 'Договоры для акселератора/Договоры поставки',\n",
       " 'b40a9d048b199d5f4db62a6a2335f2a0.pdf': 'Договоры для акселератора/Договоры поставки',\n",
       " '84fec112d02288861e7af59f468131fb.docx': 'Договоры для акселератора/Договоры поставки',\n",
       " 'f6377999f8a5aa9a09b03e428ac93153.doc': 'Договоры для акселератора/Договоры поставки',\n",
       " 'a525f050cef10dee3a42468daec064ff.doc': 'Договоры для акселератора/Договоры поставки',\n",
       " 'bec0aa38d1383172690a18d16b07f154.doc': 'Договоры для акселератора/Договоры поставки',\n",
       " '214d620d9c54bc83111277dd872d3cb2.pdf': 'Договоры для акселератора/Договоры поставки',\n",
       " 'd143c89d002fcef3e2bd2efdb4966f55.doc': 'Договоры для акселератора/Договоры поставки',\n",
       " '2fd747f38e30ae7ce1c9d6e3b907ac5d.doc': 'Договоры для акселератора/Договоры поставки',\n",
       " '4c2c295e81f4a6c3e669e8f76c6ce423.docx': 'Договоры для акселератора/Договоры поставки',\n",
       " '64f58bc6e1207a570a38d771609b2cf1.docx': 'Договоры для акселератора/Договоры поставки',\n",
       " '7ecd641f2ad81961c17455ed3ebeb2ab.doc': 'Договоры для акселератора/Договоры поставки',\n",
       " '4e583dc5a5f1499fd2408f3152589f2d.doc': 'Договоры для акселератора/Договоры поставки',\n",
       " '79104075f8b2ff971d51c495e67af52c.pdf': 'Договоры для акселератора/Договоры поставки',\n",
       " '19e2becdb0f10e1c16a5a2460f3a84a2.pdf': 'Договоры для акселератора/Договоры поставки',\n",
       " '0f7f507d0af90aba3c35484de016d8b4.doc': 'Договоры для акселератора/Договоры поставки',\n",
       " '69ab7557dee21939aa7432b23a54cb2b.doc': 'Договоры для акселератора/Договоры поставки',\n",
       " '8b82f3c800e486d9da9a13c98f7a40d6.doc': 'Договоры для акселератора/Договоры поставки',\n",
       " '856860329f573bbaf158e1eafa885ba5.docx': 'Договоры для акселератора/Договоры поставки',\n",
       " '35b6a0f57d909507c5aa9a8972b15f35.pdf': 'Договоры для акселератора/Договоры оказания услуг',\n",
       " 'f28d4a853be12515dae73a5912bc5b41.doc': 'Договоры для акселератора/Договоры оказания услуг',\n",
       " '2c758805e2917306e6cbb079e2adcfcf.rtf': 'Договоры для акселератора/Договоры оказания услуг',\n",
       " '4db6b233fda895c3bffcb5fdc5b8e1de.rtf': 'Договоры для акселератора/Договоры оказания услуг',\n",
       " '18d573815c15b4e798bdfbfb52fb2f43.docx': 'Договоры для акселератора/Договоры оказания услуг',\n",
       " 'd54c0b06162cf7cf57e8b1e7356aa204.doc': 'Договоры для акселератора/Договоры оказания услуг',\n",
       " 'a69f5a60f3fd9a081cb0528dd461be45.doc': 'Договоры для акселератора/Договоры оказания услуг',\n",
       " '41b36e9a90f36be9ed2a2b4f44e5c848.doc': 'Договоры для акселератора/Договоры оказания услуг',\n",
       " 'b19a67817142ea9f2231aa63dfd2981c.docx': 'Договоры для акселератора/Договоры оказания услуг',\n",
       " '317e4552102e82bd9e17ba1205cd4367.docx': 'Договоры для акселератора/Договоры оказания услуг',\n",
       " '67170dee29deff9bc80087a94aef7ea4.doc': 'Договоры для акселератора/Договоры оказания услуг',\n",
       " 'cbf3217807791a37499a7b8d94616fdc.doc': 'Договоры для акселератора/Договоры оказания услуг',\n",
       " '259b481366842141111305897cce7486.docx': 'Договоры для акселератора/Договоры оказания услуг',\n",
       " '6df1c02e4f9adaa9b87126dc3cb2d72b.doc': 'Договоры для акселератора/Договоры оказания услуг',\n",
       " 'eddc39f5f675890f285014c886bf22c9.doc': 'Договоры для акселератора/Договоры оказания услуг',\n",
       " '2351cf256df1b683a425211c1ed0e848.doc': 'Договоры для акселератора/Договоры оказания услуг',\n",
       " '85a65ecc4763c760f914382d6e26b1f1.doc': 'Договоры для акселератора/Договоры оказания услуг',\n",
       " 'e3f3df754bdf7578a71b7a9fa1500ad9.rtf': 'Договоры для акселератора/Договоры оказания услуг',\n",
       " '0b4be82b86eff410d69d1d6b5553d220.docx': 'Договоры для акселератора/Договоры оказания услуг',\n",
       " '736cc87395089b9611b0db70d2999d75.pdf': 'Договоры для акселератора/Договоры оказания услуг',\n",
       " '7ce2d613ac62ec5e4ef3d988c1f91582.doc': 'Договоры для акселератора/Договоры оказания услуг',\n",
       " '2060962a8b7ca4c45dc041c3f624225a.doc': 'Договоры для акселератора/Договоры оказания услуг',\n",
       " 'b95bbf14eb26ac912b1339e321cbca34.doc': 'Договоры для акселератора/Договоры оказания услуг',\n",
       " '910ccf7c9b029846e4390ddac5f8d687.doc': 'Договоры для акселератора/Договоры оказания услуг',\n",
       " '82b672721c50b8897a3cf7c98c0d8e0c.rtf': 'Договоры для акселератора/Договоры оказания услуг',\n",
       " '81a64023bdb74032827385d43181ea3a.pdf': 'Договоры для акселератора/Договоры оказания услуг',\n",
       " '6cd62be718ceb49408c49e00e7b12a5e.doc': 'Договоры для акселератора/Договоры оказания услуг',\n",
       " 'f8eabec67b770c384d84f9feb7e02543.doc': 'Договоры для акселератора/Договоры оказания услуг',\n",
       " 'f96c2a58215aa54aeb6713cbb457fad9.doc': 'Договоры для акселератора/Договоры оказания услуг',\n",
       " '02682d726b725f95b9ee85f751c043d0.doc': 'Договоры для акселератора/Договоры оказания услуг',\n",
       " '62e280b12c607701866006e37ad990a5.doc': 'Договоры для акселератора/Договоры оказания услуг',\n",
       " 'd0e8ce466209873b70ddfdbacf0eef71.doc': 'Договоры для акселератора/Договоры оказания услуг',\n",
       " '6b18c046e7ccfdaf9123c11980f56c35.doc': 'Договоры для акселератора/Договоры подряда',\n",
       " '641282d3072e91ab05c97110e0340020.docx': 'Договоры для акселератора/Договоры подряда',\n",
       " '49bce5af1c98cd017a310ea8edd3e55b.doc': 'Договоры для акселератора/Договоры подряда',\n",
       " '7a120d4c7cec157324effa671e2d0812.docx': 'Договоры для акселератора/Договоры подряда',\n",
       " '7aff676ead9fe323b2c542e60accb1ae.doc': 'Договоры для акселератора/Договоры подряда',\n",
       " 'b7acf29be1d3e4b9cb529683e676fadb.doc': 'Договоры для акселератора/Договоры подряда',\n",
       " '6babd660f1a9192017a06b7e93bea919.doc': 'Договоры для акселератора/Договоры подряда',\n",
       " '453b2cb6e4ba7b8d1a8382773880d313.doc': 'Договоры для акселератора/Договоры подряда',\n",
       " '2b408919fd9833dc3f6892aad753f21f.docx': 'Договоры для акселератора/Договоры подряда',\n",
       " '8540a7dccb3a9e4d0a1a2611e077ce9d.doc': 'Договоры для акселератора/Договоры подряда',\n",
       " '66ee9b692a6b9c690564c92121a76b15.doc': 'Договоры для акселератора/Договоры подряда',\n",
       " '508bdc1406af695fd7ab1f22b69b9857.doc': 'Договоры для акселератора/Договоры подряда',\n",
       " '981d5a0ebbecffa588848251d0750fec.doc': 'Договоры для акселератора/Договоры подряда',\n",
       " '3031ff9bc88ad88532311b419267c875.doc': 'Договоры для акселератора/Договоры подряда',\n",
       " 'e6a90919eab84ecbbdca11016c37b3a9.doc': 'Договоры для акселератора/Договоры подряда',\n",
       " 'a0e06a957c1a729fe1d978605680e2ae.doc': 'Договоры для акселератора/Договоры подряда',\n",
       " 'a7966d0674c94a6e752e3a5832edb2a9.doc': 'Договоры для акселератора/Договоры подряда',\n",
       " '8ee681886de97951748528c7c78d03a7.docx': 'Договоры для акселератора/Договоры подряда',\n",
       " 'b303afea664ed05cdbc73a8c3b31b09d.docx': 'Договоры для акселератора/Договоры подряда',\n",
       " '03a70fe60be9ecc2a63798a361fc9689.docx': 'Договоры для акселератора/Договоры подряда',\n",
       " 'c3141b7956167ce3987b82beb6cf73c4.doc': 'Договоры для акселератора/Договоры подряда',\n",
       " 'a40a0347f0a91f2537ccc67c46d883b7.doc': 'Договоры для акселератора/Договоры аренды',\n",
       " '2b25ecf601a9ce0c2a33c8e1d9746df2.doc': 'Договоры для акселератора/Договоры аренды',\n",
       " 'ef140e96384a29057445d0a889f1ad50.doc': 'Договоры для акселератора/Договоры аренды',\n",
       " 'bdfb262c00991dddebfc5d4a87604284.doc': 'Договоры для акселератора/Договоры аренды',\n",
       " '3588ff6fb8f5c5a5f70196500198ca3a.doc': 'Договоры для акселератора/Договоры аренды',\n",
       " '123c9dd7b2736589f1f286d2112bc4eb.doc': 'Договоры для акселератора/Договоры аренды',\n",
       " 'cf89a65d4477656ec05262ae55bb6aaa.doc': 'Договоры для акселератора/Договоры аренды',\n",
       " '616d4446e85de23f29337a6e089c67cb.doc': 'Договоры для акселератора/Договоры аренды',\n",
       " '2d4708c800dc003466fa9a8a64e2e2b7.docx': 'Договоры для акселератора/Договоры аренды',\n",
       " '82e5f04228e8d6768de9e4a4c565e89f.doc': 'Договоры для акселератора/Договоры аренды',\n",
       " '317dc2690741c169db9dc901ff5a3258.docx': 'Договоры для акселератора/Договоры аренды',\n",
       " '5e9754740f6c89a96cf5996404ec3c27.doc': 'Договоры для акселератора/Договоры аренды',\n",
       " '855c8450351c98a25ea2ac22a0256c7f.doc': 'Договоры для акселератора/Договоры аренды',\n",
       " 'a8a9861b63d26f13f0f10a075158b6da.doc': 'Договоры для акселератора/Договоры аренды',\n",
       " '58c8976ca35aa805aa9d21246d5d18ee.doc': 'Договоры для акселератора/Договоры аренды',\n",
       " '7e0cf1019baa9e1cdabcfc06d522d424.doc': 'Договоры для акселератора/Договоры аренды',\n",
       " '242b138fd2025b7a5207876098355e03.docx': 'Договоры для акселератора/Договоры аренды',\n",
       " 'e6a6d61368866475f346f078cf2cbe60.doc': 'Договоры для акселератора/Договоры аренды',\n",
       " 'dda3ea2dc3a078682620f926a54aa0bf.doc': 'Договоры для акселератора/Договоры аренды',\n",
       " '97d4cf03b88c9e040557ab1b61e2e7a2.doc': 'Договоры для акселератора/Договоры аренды',\n",
       " 'f3734851311f2a7ac6c66ad7ccbe1d2c.doc': 'Договоры для акселератора/Договоры аренды',\n",
       " '99a11e3e403b7c8b0773108a84839517.doc': 'Договоры для акселератора/Договоры аренды',\n",
       " '084edc7dfc3db04e3a3c55c102f47bcb.doc': 'Договоры для акселератора/Договоры аренды',\n",
       " '15e3d16cf68646b3383d386aae2a6849.doc': 'Договоры для акселератора/Договоры купли-продажи',\n",
       " '073a0d372820c3c2bffe9ba24a7ed7af.doc': 'Договоры для акселератора/Договоры купли-продажи',\n",
       " '2054a58154349bc54b691666fe3f89b1.pdf': 'Договоры для акселератора/Договоры купли-продажи',\n",
       " '5262e9c377c3ab1f6b8141762cca69ad.doc': 'Договоры для акселератора/Договоры купли-продажи',\n",
       " '4a5707e447271a188a1211606b158a94.pdf': 'Договоры для акселератора/Договоры купли-продажи',\n",
       " '91ba127aad1b88905603ecc3aacac0d1.doc': 'Договоры для акселератора/Договоры купли-продажи',\n",
       " 'abcec818adbe358f8071a75e0fe2cc49.pdf': 'Договоры для акселератора/Договоры купли-продажи',\n",
       " '137eaaa047f557233943012897e46cec.doc': 'Договоры для акселератора/Договоры купли-продажи',\n",
       " 'a2f8675b6d37b6af819ca3fdbb0e3432.pdf': 'Договоры для акселератора/Договоры купли-продажи',\n",
       " '31d24c0d4694e7c2fb19933b84414b40.doc': 'Договоры для акселератора/Договоры купли-продажи',\n",
       " '8c5ce9a193c788cadf94ddec5607f3b4.docx': 'Договоры для акселератора/Договоры купли-продажи',\n",
       " '86d6d0062e91651ccc3d3ce35b162bf8.doc': 'Договоры для акселератора/Договоры купли-продажи',\n",
       " '086ad48895d2a73854b6151decc28800.pdf': 'Договоры для акселератора/Договоры купли-продажи',\n",
       " 'bd9b731375abcdb9969af05ec9fb03fa.doc': 'Договоры для акселератора/Договоры купли-продажи',\n",
       " 'a543a2a59bd604ad1224040b14844b49.docx': 'Договоры для акселератора/Договоры купли-продажи',\n",
       " '34f5456e56beb78b311728f738167d3a.doc': 'Договоры для акселератора/Договоры купли-продажи',\n",
       " 'ff6882cb4a3ec31dec18a94e1d1745b1.doc': 'Договоры для акселератора/Договоры купли-продажи',\n",
       " 'c7a0230f5a8e1cbe7a6bec435b71a43c.docx': 'Договоры для акселератора/Договоры купли-продажи',\n",
       " 'f57fe87f15a6dee2b17e804421be63b5.pdf': 'Договоры для акселератора/Договоры купли-продажи',\n",
       " '1ea8809d696a4bd6a2076fbc6fd28c23.doc': 'Договоры для акселератора/Договоры купли-продажи',\n",
       " '57962abd8dbe0ce0c7056896ee4501f1.doc': 'Договоры для акселератора/Договоры купли-продажи',\n",
       " '2c81df29db63aebf495106881a52188f.doc': 'Договоры для акселератора/Договоры купли-продажи',\n",
       " '0ca2f9faecdbc67d6686a9f5b6636eba.doc': 'Договоры для акселератора/Договоры купли-продажи'}"
      ]
     },
     "execution_count": 145,
     "metadata": {},
     "output_type": "execute_result"
    }
   ],
   "source": [
    "# вывод видов договоров\n",
    "classes"
   ]
  },
  {
   "cell_type": "code",
   "execution_count": 6,
   "id": "be5d671f",
   "metadata": {},
   "outputs": [
    {
     "data": {
      "text/plain": [
       "array(['Договоры для акселератора/Договоры аренды',\n",
       "       'Договоры для акселератора/Договоры купли-продажи',\n",
       "       'Договоры для акселератора/Договоры оказания услуг',\n",
       "       'Договоры для акселератора/Договоры подряда',\n",
       "       'Договоры для акселератора/Договоры поставки'], dtype='<U49')"
      ]
     },
     "execution_count": 6,
     "metadata": {},
     "output_type": "execute_result"
    }
   ],
   "source": [
    "# наименования классов\n",
    "kind_names = np.unique(list(classes.values()))\n",
    "kind_names"
   ]
  },
  {
   "cell_type": "code",
   "execution_count": 7,
   "id": "3efad83d",
   "metadata": {},
   "outputs": [
    {
     "data": {
      "text/plain": [
       "[('Договор аренды',),\n",
       " ('Договор купли-продажи',),\n",
       " ('Договор оказания услуг',),\n",
       " ('Договор подряда',),\n",
       " ('Договор поставки',)]"
      ]
     },
     "execution_count": 7,
     "metadata": {},
     "output_type": "execute_result"
    }
   ],
   "source": [
    "# очистка наименований классов и подготовка к записи в базу данных\n",
    "kind_names = [(name.split('/')[-1].replace('ы', '', 1),) for name in kind_names]\n",
    "kind_names"
   ]
  },
  {
   "cell_type": "code",
   "execution_count": 4,
   "id": "a53cee1f",
   "metadata": {},
   "outputs": [
    {
     "name": "stdout",
     "output_type": "stream",
     "text": [
      "База данных создана и успешно подключена к SQLite\n"
     ]
    }
   ],
   "source": [
    "# подключение к базе данных (в случае отсутствия база данных создается)\n",
    "connection = sqlite3.connect('contracts.db')\n",
    "# создание объекта подключения\n",
    "cursor = connection.cursor()\n",
    "print(\"База данных создана и успешно подключена к SQLite\")"
   ]
  },
  {
   "cell_type": "code",
   "execution_count": 9,
   "id": "7161c2c9",
   "metadata": {},
   "outputs": [
    {
     "data": {
      "text/plain": [
       "['5908cb5da047d6c9e6dfea6337fb3189.doc',\n",
       " '14711e4fc8e56f0c75856c8837ec04cb.doc',\n",
       " '7eb67b5aecf3f3190aab0a5f8ea32172.docx',\n",
       " 'b40a9d048b199d5f4db62a6a2335f2a0.pdf',\n",
       " '84fec112d02288861e7af59f468131fb.docx']"
      ]
     },
     "execution_count": 9,
     "metadata": {},
     "output_type": "execute_result"
    }
   ],
   "source": [
    "# наименование файлов договора\n",
    "classes_keys = list(classes.keys())\n",
    "classes_keys[:5]"
   ]
  },
  {
   "cell_type": "code",
   "execution_count": 10,
   "id": "28a222f7",
   "metadata": {},
   "outputs": [
    {
     "data": {
      "text/plain": [
       "120"
      ]
     },
     "execution_count": 10,
     "metadata": {},
     "output_type": "execute_result"
    }
   ],
   "source": [
    "# количество файлов\n",
    "len(classes_keys)"
   ]
  },
  {
   "cell_type": "code",
   "execution_count": 11,
   "id": "8ba97d04",
   "metadata": {},
   "outputs": [],
   "source": [
    "# функция записи наименования вида договора в таблицу contract_kinds\n",
    "def InsertContractClassName(kind_name):\n",
    "    \n",
    "    #connection = sqlite3.connect('contracts.db')\n",
    "    #cursor = connection.cursor()\n",
    "    cursor.executemany(\"INSERT INTO contract_kinds (kind_name) VALUES(?)\", kind_name)\n",
    "    connection.commit()\n",
    "    #connection.close()"
   ]
  },
  {
   "cell_type": "code",
   "execution_count": 12,
   "id": "63d2e064",
   "metadata": {},
   "outputs": [],
   "source": [
    "# запись наименований в базу данных\n",
    "InsertContractClassName(kind_names)"
   ]
  },
  {
   "cell_type": "code",
   "execution_count": 5,
   "id": "0f24192c",
   "metadata": {},
   "outputs": [
    {
     "name": "stdout",
     "output_type": "stream",
     "text": [
      "[(1, 'Договор аренды'), (2, 'Договор купли-продажи'), (3, 'Договор оказания услуг'), (4, 'Договор подряда'), (5, 'Договор поставки')]\n"
     ]
    }
   ],
   "source": [
    "# проверка внесения записи\n",
    "cursor.execute(\"SELECT * FROM contract_kinds;\")\n",
    "three_results = cursor.fetchall()\n",
    "print(three_results)"
   ]
  },
  {
   "cell_type": "code",
   "execution_count": 31,
   "id": "f77f61c1",
   "metadata": {},
   "outputs": [],
   "source": [
    "# подготовка id наименований вида договора и наименования вида договора к записи в файл в виде словаря\n",
    "kind_id = [result[0] for result in three_results]\n",
    "kind_name = [result[1] for result in three_results]"
   ]
  },
  {
   "cell_type": "code",
   "execution_count": 32,
   "id": "37fb0c44",
   "metadata": {},
   "outputs": [
    {
     "data": {
      "text/plain": [
       "{1: 'Договор аренды',\n",
       " 2: 'Договор купли-продажи',\n",
       " 3: 'Договор оказания услуг',\n",
       " 4: 'Договор подряда',\n",
       " 5: 'Договор поставки'}"
      ]
     },
     "execution_count": 32,
     "metadata": {},
     "output_type": "execute_result"
    }
   ],
   "source": [
    "# преобразование в словарь\n",
    "kind_names = dict(zip(kind_id, kind_name))\n",
    "kind_names"
   ]
  },
  {
   "cell_type": "code",
   "execution_count": 33,
   "id": "d37f5720",
   "metadata": {},
   "outputs": [],
   "source": [
    "# запись словаря в файл\n",
    "with open('data/kind_names.json', 'w') as outfile:\n",
    "    json.dump(kind_names, outfile)"
   ]
  },
  {
   "cell_type": "code",
   "execution_count": 34,
   "id": "3f17f97a",
   "metadata": {},
   "outputs": [],
   "source": [
    "# проверка записи в файл\n",
    "with open('data/kind_names.json', 'r') as f:\n",
    "    kind_names = json.load(f)"
   ]
  },
  {
   "cell_type": "code",
   "execution_count": 35,
   "id": "1a1e3c8a",
   "metadata": {},
   "outputs": [
    {
     "data": {
      "text/plain": [
       "{'1': 'Договор аренды',\n",
       " '2': 'Договор купли-продажи',\n",
       " '3': 'Договор оказания услуг',\n",
       " '4': 'Договор подряда',\n",
       " '5': 'Договор поставки'}"
      ]
     },
     "execution_count": 35,
     "metadata": {},
     "output_type": "execute_result"
    }
   ],
   "source": [
    "kind_names"
   ]
  },
  {
   "cell_type": "code",
   "execution_count": 148,
   "id": "7d3f5b37",
   "metadata": {},
   "outputs": [
    {
     "name": "stdout",
     "output_type": "stream",
     "text": [
      "[('Договор аренды',), ('Договор купли-продажи',), ('Договор оказания услуг',), ('Договор подряда',), ('Договор поставки',)]\n"
     ]
    }
   ],
   "source": [
    "# извлечение наименований видов договоров\n",
    "cursor.execute(\"SELECT kind_name FROM contract_kinds;\")\n",
    "three_results = cursor.fetchall()\n",
    "print(three_results)"
   ]
  },
  {
   "cell_type": "code",
   "execution_count": 149,
   "id": "de82dce8",
   "metadata": {},
   "outputs": [
    {
     "data": {
      "text/plain": [
       "['Договор аренды',\n",
       " 'Договор купли-продажи',\n",
       " 'Договор оказания услуг',\n",
       " 'Договор подряда',\n",
       " 'Договор поставки']"
      ]
     },
     "execution_count": 149,
     "metadata": {},
     "output_type": "execute_result"
    }
   ],
   "source": [
    "# очистка информации\n",
    "[_[0] for _ in three_results]"
   ]
  },
  {
   "cell_type": "code",
   "execution_count": 121,
   "id": "d2e298c2",
   "metadata": {},
   "outputs": [],
   "source": [
    "# функция извлечения kind_id из базы данных\n",
    "def SelectKindId(kind_name):\n",
    "    \n",
    "    #connection = sqlite3.connect('contracts.db')\n",
    "    #cursor = connection.cursor()\n",
    "    cursor.execute(\"SELECT kind_id FROM contract_kinds WHERE kind_name = ?;\", (kind_name,))\n",
    "    kind_id = cursor.fetchone()[0]\n",
    "    #connection.close()\n",
    "    \n",
    "    return kind_id"
   ]
  },
  {
   "cell_type": "code",
   "execution_count": 122,
   "id": "8c5aa866",
   "metadata": {},
   "outputs": [],
   "source": [
    "# функция определения текущей даты greate_date\n",
    "def SelectDateNow():\n",
    "    \n",
    "    #connection = sqlite3.connect('contracts.db')\n",
    "    #cursor = connection.cursor()\n",
    "    cursor.execute(\"SELECT date('now');\")\n",
    "    greate_date = cursor.fetchone()[0]\n",
    "    #connection.close()\n",
    "    \n",
    "    return  greate_date"
   ]
  },
  {
   "cell_type": "code",
   "execution_count": 123,
   "id": "41f32135",
   "metadata": {},
   "outputs": [],
   "source": [
    "# функция записи договора в базу данных\n",
    "def InsertContract(kind_id, greate_date, contract_name, contract):\n",
    "    \n",
    "    #connection = sqlite3.connect('contracts.db')\n",
    "    #cursor = connection.cursor()\n",
    "    cursor.execute(\"INSERT INTO contracts \\\n",
    "              (kind_id, greate_date, contract_name, contract) \\\n",
    "              VALUES(?, ?, ?, ?)\", \\\n",
    "              (kind_id, greate_date, contract_name, contract))\n",
    "    connection.commit()\n",
    "    #connection.close()"
   ]
  },
  {
   "cell_type": "code",
   "execution_count": 20,
   "id": "a62356c6",
   "metadata": {},
   "outputs": [
    {
     "name": "stdout",
     "output_type": "stream",
     "text": [
      "CPU times: total: 20.5 s\n",
      "Wall time: 22.6 s\n"
     ]
    }
   ],
   "source": [
    "%%time\n",
    "# внесение договоров в базу данных\n",
    "for file in classes_keys:\n",
    "    \n",
    "    # имя файла договора\n",
    "    contract_name = file\n",
    "    # путь к файлу\n",
    "    path = 'data/docs/' + file\n",
    "    # загрузка файла договора\n",
    "    data = aw.Document(path)\n",
    "    # извлечение текста договора\n",
    "    contract = data.get_text()\n",
    "    # очистка от рекламного текста \n",
    "    contract = contract.replace('Evaluation Only. Created with Aspose.Words. Copyright 2003-2022 Aspose Pty Ltd.', '')\n",
    "    contract = contract.replace('Created with an evaluation copy of Aspose.Words. To discover the full versions of our APIs please visit: https://products.aspose.com/words/', '')\n",
    "    # наименование вида договора\n",
    "    kind_name = classes[file].split('/')[-1].replace('ы', '', 1)\n",
    "    # id наименования вида договора\n",
    "    kind_id = SelectKindId(kind_name)\n",
    "    # дата сохранения договора в базу данных\n",
    "    greate_date = SelectDateNow()\n",
    "    # запись договора в базу данных   \n",
    "    InsertContract(kind_id, greate_date, contract_name, contract)"
   ]
  },
  {
   "cell_type": "code",
   "execution_count": 124,
   "id": "e5d002fc",
   "metadata": {},
   "outputs": [
    {
     "data": {
      "text/html": [
       "<div>\n",
       "<style scoped>\n",
       "    .dataframe tbody tr th:only-of-type {\n",
       "        vertical-align: middle;\n",
       "    }\n",
       "\n",
       "    .dataframe tbody tr th {\n",
       "        vertical-align: top;\n",
       "    }\n",
       "\n",
       "    .dataframe thead th {\n",
       "        text-align: right;\n",
       "    }\n",
       "</style>\n",
       "<table border=\"1\" class=\"dataframe\">\n",
       "  <thead>\n",
       "    <tr style=\"text-align: right;\">\n",
       "      <th></th>\n",
       "      <th>contract_id</th>\n",
       "      <th>kind_id</th>\n",
       "      <th>kind_name</th>\n",
       "      <th>greate_date</th>\n",
       "      <th>contract_name</th>\n",
       "      <th>contract</th>\n",
       "    </tr>\n",
       "  </thead>\n",
       "  <tbody>\n",
       "    <tr>\n",
       "      <th>0</th>\n",
       "      <td>1</td>\n",
       "      <td>5</td>\n",
       "      <td>Договор поставки</td>\n",
       "      <td>2022-12-26</td>\n",
       "      <td>5908cb5da047d6c9e6dfea6337fb3189.doc</td>\n",
       "      <td>\\r\\t\\tДОГОВОР \\r\\rг. Москва\u0007«__» ________ 2012...</td>\n",
       "    </tr>\n",
       "    <tr>\n",
       "      <th>1</th>\n",
       "      <td>2</td>\n",
       "      <td>5</td>\n",
       "      <td>Договор поставки</td>\n",
       "      <td>2022-12-26</td>\n",
       "      <td>14711e4fc8e56f0c75856c8837ec04cb.doc</td>\n",
       "      <td>\\r\\r\\rДоговор №______________\\r\\r\\r Дата, мест...</td>\n",
       "    </tr>\n",
       "    <tr>\n",
       "      <th>2</th>\n",
       "      <td>3</td>\n",
       "      <td>5</td>\n",
       "      <td>Договор поставки</td>\n",
       "      <td>2022-12-26</td>\n",
       "      <td>7eb67b5aecf3f3190aab0a5f8ea32172.docx</td>\n",
       "      <td>\\r\\r\\t\\t\\r\\rДОГОВОР ЗАКУПКИ № __________/\\r\\rг...</td>\n",
       "    </tr>\n",
       "    <tr>\n",
       "      <th>3</th>\n",
       "      <td>4</td>\n",
       "      <td>5</td>\n",
       "      <td>Договор поставки</td>\n",
       "      <td>2022-12-26</td>\n",
       "      <td>b40a9d048b199d5f4db62a6a2335f2a0.pdf</td>\n",
       "      <td>\\rДОГОВОР ПОСТАВКИ № 1 \\rг. Москва         «11...</td>\n",
       "    </tr>\n",
       "    <tr>\n",
       "      <th>4</th>\n",
       "      <td>5</td>\n",
       "      <td>5</td>\n",
       "      <td>Договор поставки</td>\n",
       "      <td>2022-12-26</td>\n",
       "      <td>84fec112d02288861e7af59f468131fb.docx</td>\n",
       "      <td>\\rДоговор  № {НомерДокумента}\\r\u0007{ДатаДокумента...</td>\n",
       "    </tr>\n",
       "  </tbody>\n",
       "</table>\n",
       "</div>"
      ],
      "text/plain": [
       "   contract_id  kind_id         kind_name greate_date  \\\n",
       "0            1        5  Договор поставки  2022-12-26   \n",
       "1            2        5  Договор поставки  2022-12-26   \n",
       "2            3        5  Договор поставки  2022-12-26   \n",
       "3            4        5  Договор поставки  2022-12-26   \n",
       "4            5        5  Договор поставки  2022-12-26   \n",
       "\n",
       "                           contract_name  \\\n",
       "0   5908cb5da047d6c9e6dfea6337fb3189.doc   \n",
       "1   14711e4fc8e56f0c75856c8837ec04cb.doc   \n",
       "2  7eb67b5aecf3f3190aab0a5f8ea32172.docx   \n",
       "3   b40a9d048b199d5f4db62a6a2335f2a0.pdf   \n",
       "4  84fec112d02288861e7af59f468131fb.docx   \n",
       "\n",
       "                                            contract  \n",
       "0  \\r\\t\\tДОГОВОР \\r\\rг. Москва\u0007«__» ________ 2012...  \n",
       "1  \\r\\r\\rДоговор №______________\\r\\r\\r Дата, мест...  \n",
       "2  \\r\\r\\t\\t\\r\\rДОГОВОР ЗАКУПКИ № __________/\\r\\rг...  \n",
       "3  \\rДОГОВОР ПОСТАВКИ № 1 \\rг. Москва         «11...  \n",
       "4  \\rДоговор  № {НомерДокумента}\\r\u0007{ДатаДокумента...  "
      ]
     },
     "execution_count": 124,
     "metadata": {},
     "output_type": "execute_result"
    }
   ],
   "source": [
    "# преобразование данных в DaraFrame\n",
    "cursor.execute(\"SELECT contract_id, kind_id, kind_name, greate_date, contract_name, contract \\\n",
    "                FROM contracts \\\n",
    "                INNER JOIN contract_kinds USING (kind_id);\")\n",
    "contracts = cursor.fetchall()\n",
    "colnames = ['contract_id', 'kind_id', 'kind_name', 'greate_date', 'contract_name', 'contract']\n",
    "contracts_df = pd.DataFrame(data=contracts, columns=colnames)\n",
    "contracts_df.head()"
   ]
  },
  {
   "cell_type": "code",
   "execution_count": 125,
   "id": "ce733d66",
   "metadata": {},
   "outputs": [
    {
     "data": {
      "text/plain": [
       "(120, 6)"
      ]
     },
     "execution_count": 125,
     "metadata": {},
     "output_type": "execute_result"
    }
   ],
   "source": [
    "# размерность данных\n",
    "contracts_df.shape"
   ]
  },
  {
   "cell_type": "code",
   "execution_count": 126,
   "id": "6963dcce",
   "metadata": {},
   "outputs": [
    {
     "name": "stdout",
     "output_type": "stream",
     "text": [
      "<class 'pandas.core.frame.DataFrame'>\n",
      "RangeIndex: 120 entries, 0 to 119\n",
      "Data columns (total 6 columns):\n",
      " #   Column         Non-Null Count  Dtype \n",
      "---  ------         --------------  ----- \n",
      " 0   contract_id    120 non-null    int64 \n",
      " 1   kind_id        120 non-null    int64 \n",
      " 2   kind_name      120 non-null    object\n",
      " 3   greate_date    120 non-null    object\n",
      " 4   contract_name  120 non-null    object\n",
      " 5   contract       120 non-null    object\n",
      "dtypes: int64(2), object(4)\n",
      "memory usage: 5.8+ KB\n"
     ]
    }
   ],
   "source": [
    "# проверка наличия пропусков\n",
    "contracts_df.info()"
   ]
  },
  {
   "cell_type": "code",
   "execution_count": 127,
   "id": "2d2950a8",
   "metadata": {},
   "outputs": [],
   "source": [
    "# сохранение в файл\n",
    "contracts_df.to_csv('data/contracts_df.csv', index=False)"
   ]
  },
  {
   "cell_type": "code",
   "execution_count": 36,
   "id": "f119a2d5",
   "metadata": {},
   "outputs": [],
   "source": [
    "# закрытие соединения с базой данных\n",
    "connection.close()"
   ]
  },
  {
   "cell_type": "code",
   "execution_count": null,
   "id": "5c521a22",
   "metadata": {},
   "outputs": [],
   "source": []
  }
 ],
 "metadata": {
  "kernelspec": {
   "display_name": "Python 3 (ipykernel)",
   "language": "python",
   "name": "python3"
  },
  "language_info": {
   "codemirror_mode": {
    "name": "ipython",
    "version": 3
   },
   "file_extension": ".py",
   "mimetype": "text/x-python",
   "name": "python",
   "nbconvert_exporter": "python",
   "pygments_lexer": "ipython3",
   "version": "3.9.12"
  }
 },
 "nbformat": 4,
 "nbformat_minor": 5
}
